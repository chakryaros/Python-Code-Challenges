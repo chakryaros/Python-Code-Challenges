{
 "cells": [
  {
   "cell_type": "markdown",
   "metadata": {},
   "source": [
    "# Exercise Problems for String in Python!\n",
    "\n",
    "Keep in mind: String in Python is very similar to List in Python."
   ]
  },
  {
   "cell_type": "markdown",
   "metadata": {},
   "source": [
    "### Problem 1: Initialize a new string, \"ABC\", and store it in a new variable called a_string."
   ]
  },
  {
   "cell_type": "code",
   "execution_count": 1,
   "metadata": {},
   "outputs": [
    {
     "name": "stdout",
     "output_type": "stream",
     "text": [
      "a_string is: \n",
      "ABC\n"
     ]
    }
   ],
   "source": [
    "# Write your solution below:\n",
    "a_string =\"ABC\"\n",
    "print(\"a_string is: \")\n",
    "print(a_string) # This should print ABC."
   ]
  },
  {
   "cell_type": "markdown",
   "metadata": {},
   "source": [
    "### Problem 2: From the string called b_string, defined below, retrieve and print the second character."
   ]
  },
  {
   "cell_type": "code",
   "execution_count": 2,
   "metadata": {},
   "outputs": [
    {
     "name": "stdout",
     "output_type": "stream",
     "text": [
      "b_string's second character is: (should be E)\n",
      "E\n"
     ]
    }
   ],
   "source": [
    "b_string = \"DEF\"\n",
    "\n",
    "print(\"b_string's second character is: (should be E)\")\n",
    "print(b_string[1])\n",
    "# Write your solution below:"
   ]
  },
  {
   "cell_type": "markdown",
   "metadata": {},
   "source": [
    "### Problem 3: Iterate over each character in c_string and print it using the \"for character in ...\" syntax."
   ]
  },
  {
   "cell_type": "code",
   "execution_count": 3,
   "metadata": {},
   "outputs": [
    {
     "name": "stdout",
     "output_type": "stream",
     "text": [
      "G\n",
      "H\n",
      "I\n",
      "Your solution should have printed G, H, and I.\n"
     ]
    }
   ],
   "source": [
    "c_string = \"GHI\"\n",
    "# Write your solution below:\n",
    "for i in c_string:\n",
    "    print(i)\n",
    "\n",
    "\n",
    "\n",
    "print(\"Your solution should have printed G, H, and I.\")"
   ]
  },
  {
   "cell_type": "markdown",
   "metadata": {},
   "source": [
    "### Problem 4: Iterate over each character in d_string and print it using the \"for i in range(...)\" syntax."
   ]
  },
  {
   "cell_type": "code",
   "execution_count": 4,
   "metadata": {},
   "outputs": [
    {
     "name": "stdout",
     "output_type": "stream",
     "text": [
      "P\n",
      "Q\n",
      "R\n",
      "Your solution should have printed P, Q, and R.\n"
     ]
    }
   ],
   "source": [
    "d_string = \"PQR\"\n",
    "# Write your solution below:\n",
    "for i in range(len(d_string)):\n",
    "    print(d_string[i])\n",
    "\n",
    "\n",
    "\n",
    "print(\"Your solution should have printed P, Q, and R.\")"
   ]
  },
  {
   "cell_type": "markdown",
   "metadata": {},
   "source": [
    "### Problem 5: Write a function that takes two strings and returns True if they are reverses of each other.\n",
    "\n",
    "For example, \"ABC\" and \"CBA\" are reverses of each other.  Assume that the two strings are not empty and have the same length."
   ]
  },
  {
   "cell_type": "code",
   "execution_count": 14,
   "metadata": {},
   "outputs": [],
   "source": [
    "# Modify the following function:\n",
    "def are_reverses(string_1, string_2):\n",
    "    for i in range(len(string_1)):\n",
    "        if string_1[i] != string_2[len(string_2)-i-1]:\n",
    "            return False\n",
    "    return True"
   ]
  },
  {
   "cell_type": "markdown",
   "metadata": {},
   "source": [
    "### Use the code below to test your function."
   ]
  },
  {
   "cell_type": "code",
   "execution_count": 15,
   "metadata": {},
   "outputs": [
    {
     "name": "stdout",
     "output_type": "stream",
     "text": [
      "Are \"ABC\" and \"CBA\" reverses of each other? (Should be True.)\n"
     ]
    },
    {
     "data": {
      "text/plain": [
       "True"
      ]
     },
     "execution_count": 15,
     "metadata": {},
     "output_type": "execute_result"
    }
   ],
   "source": [
    "print('Are \"ABC\" and \"CBA\" reverses of each other? (Should be True.)')\n",
    "are_reverses(\"ABC\", \"CBA\")"
   ]
  },
  {
   "cell_type": "code",
   "execution_count": 16,
   "metadata": {},
   "outputs": [
    {
     "name": "stdout",
     "output_type": "stream",
     "text": [
      "Are \"CBA\" and \"AAA\" reverses of each other? (Should be False.)\n"
     ]
    },
    {
     "data": {
      "text/plain": [
       "False"
      ]
     },
     "execution_count": 16,
     "metadata": {},
     "output_type": "execute_result"
    }
   ],
   "source": [
    "print('Are \"CBA\" and \"AAA\" reverses of each other? (Should be False.)')\n",
    "are_reverses(\"CBA\", \"AAA\")"
   ]
  },
  {
   "cell_type": "code",
   "execution_count": 20,
   "metadata": {},
   "outputs": [
    {
     "name": "stdout",
     "output_type": "stream",
     "text": [
      "(1.3653e-08, ['file', 'save', 'as'])\n"
     ]
    }
   ],
   "source": [
    "WORD_FREQUENCIES = {\n",
    "    'file': 0.00123,\n",
    "    'files': 0.00124,\n",
    "    'save': 0.002,\n",
    "    'ave': 0.00001,\n",
    "    'as': 0.00555\n",
    "}\n",
    "\n",
    "def split_text(text, word_frequencies, cache):\n",
    "    if text in cache:\n",
    "        return cache[text]\n",
    "    if not text:\n",
    "        return 1, []\n",
    "    best_freq, best_split = 0, []\n",
    "    for i in range(1, len(text) + 1):\n",
    "        word, remainder = text[:i], text[i:]\n",
    "        freq = word_frequencies.get(word, None)\n",
    "        if freq:\n",
    "            remainder_freq, remainder = split_text(\n",
    "                    remainder, word_frequencies, cache)\n",
    "            freq *= remainder_freq\n",
    "            if freq > best_freq:\n",
    "                best_freq = freq\n",
    "                best_split = [word] + remainder\n",
    "    cache[text] = (best_freq, best_split)\n",
    "    return cache[text]\n",
    "\n",
    "print (split_text('filesaveas', WORD_FREQUENCIES, {}))\n"
   ]
  },
  {
   "cell_type": "code",
   "execution_count": null,
   "metadata": {},
   "outputs": [],
   "source": []
  }
 ],
 "metadata": {
  "anaconda-cloud": {},
  "kernelspec": {
   "display_name": "Python 3",
   "language": "python",
   "name": "python3"
  },
  "language_info": {
   "codemirror_mode": {
    "name": "ipython",
    "version": 3
   },
   "file_extension": ".py",
   "mimetype": "text/x-python",
   "name": "python",
   "nbconvert_exporter": "python",
   "pygments_lexer": "ipython3",
   "version": "3.7.3"
  }
 },
 "nbformat": 4,
 "nbformat_minor": 1
}
