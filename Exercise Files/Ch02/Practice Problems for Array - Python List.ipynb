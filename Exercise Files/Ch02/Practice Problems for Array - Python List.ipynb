{
 "cells": [
  {
   "cell_type": "markdown",
   "metadata": {},
   "source": [
    "# Exercise Problems for Python List (Array)!\n",
    "\n",
    "Remember, if you're familiar with Array in other languages like Java and C++, it's usually implemented as a List in Python."
   ]
  },
  {
   "cell_type": "markdown",
   "metadata": {},
   "source": [
    "### Problem 1: Initialize a new list called a_list with the elements [\"item1\", \"item2\", \"item3\"]."
   ]
  },
  {
   "cell_type": "code",
   "execution_count": 1,
   "metadata": {},
   "outputs": [],
   "source": [
    "# Write your solution below:\n",
    "a_list = [\"item1\", \"item2\", \"item3\"]"
   ]
  },
  {
   "cell_type": "code",
   "execution_count": 2,
   "metadata": {},
   "outputs": [
    {
     "name": "stdout",
     "output_type": "stream",
     "text": [
      "a_list is: \n",
      "['item1', 'item2', 'item3']\n"
     ]
    }
   ],
   "source": [
    "print(\"a_list is: \")\n",
    "print(a_list) # This should print ['item1', 'item2', 'item3']"
   ]
  },
  {
   "cell_type": "markdown",
   "metadata": {},
   "source": [
    "### Problem 2: Change the second element in b_list (defined below) to 1."
   ]
  },
  {
   "cell_type": "code",
   "execution_count": 3,
   "metadata": {},
   "outputs": [],
   "source": [
    "b_list = [0, 0, 0]\n",
    "# Write your solution below:\n",
    "b_list[1] = 1"
   ]
  },
  {
   "cell_type": "code",
   "execution_count": 4,
   "metadata": {},
   "outputs": [
    {
     "name": "stdout",
     "output_type": "stream",
     "text": [
      "b_list is: \n",
      "[0, 1, 0]\n"
     ]
    }
   ],
   "source": [
    "print(\"b_list is: \")\n",
    "print(b_list) # This should print [0, 1, 0]"
   ]
  },
  {
   "cell_type": "markdown",
   "metadata": {},
   "source": [
    "### Problem 3: Iterate over each element in c_list and print it using the \"for element in ...\" syntax."
   ]
  },
  {
   "cell_type": "code",
   "execution_count": 5,
   "metadata": {},
   "outputs": [
    {
     "name": "stdout",
     "output_type": "stream",
     "text": [
      "item0\n",
      "item1\n",
      "item2\n"
     ]
    }
   ],
   "source": [
    "c_list = [\"item0\", \"item1\", \"item2\"]\n",
    "# Write your solution below:\n",
    "for i in c_list:\n",
    "    print(i)"
   ]
  },
  {
   "cell_type": "markdown",
   "metadata": {},
   "source": [
    "### Problem 4: Iterate over each element in d_list and print it using the \"for i in range(...)\" syntax."
   ]
  },
  {
   "cell_type": "code",
   "execution_count": 7,
   "metadata": {},
   "outputs": [
    {
     "name": "stdout",
     "output_type": "stream",
     "text": [
      "item0\n",
      "item1\n",
      "item2\n",
      "Your solution should have printed item0, item1, and item2.\n"
     ]
    }
   ],
   "source": [
    "d_list = [\"item0\", \"item1\", \"item2\"]\n",
    "# Write your solution below:\n",
    "# range(3) -> [0, 1, 2]\n",
    "for i in range(len(d_list)):\n",
    "    print(d_list[i])\n",
    "\n",
    "print(\"Your solution should have printed item0, item1, and item2.\")"
   ]
  },
  {
   "cell_type": "markdown",
   "metadata": {},
   "source": [
    "### Problem 5: Find the sum of e_list, which contains: [32, 55, 710, 1]."
   ]
  },
  {
   "cell_type": "code",
   "execution_count": 8,
   "metadata": {},
   "outputs": [
    {
     "name": "stdout",
     "output_type": "stream",
     "text": [
      "The sum of e_list is (should be 798):\n",
      "798\n"
     ]
    }
   ],
   "source": [
    "e_list = [32, 55, 710, 1]\n",
    "# Write your solution below.\n",
    "total = 0\n",
    "for i in e_list:\n",
    "    total += i\n",
    "\n",
    "print('The sum of e_list is (should be 798):')\n",
    "print(total)"
   ]
  },
  {
   "cell_type": "code",
   "execution_count": 33,
   "metadata": {},
   "outputs": [
    {
     "data": {
      "text/plain": [
       "4"
      ]
     },
     "execution_count": 33,
     "metadata": {},
     "output_type": "execute_result"
    }
   ],
   "source": [
    "def second_large(arrylist):\n",
    "    \n",
    "    largest = None\n",
    "    second_largest = None\n",
    "    \n",
    "    for current_number in arrylist:\n",
    "        if largest == None:\n",
    "            largest = current_number\n",
    "        elif current_number > largest:\n",
    "            second_largest = largest\n",
    "            largest = current_number\n",
    "        elif second_largest == None:\n",
    "            second_largest = current_number\n",
    "        elif current_number > second_largest:\n",
    "            second_largest = current_number\n",
    "    return second_largest\n",
    "    \n",
    "arrylist = [1, 3, 4, 5, 0, 2]\n",
    "second_large(arrylist)"
   ]
  },
  {
   "cell_type": "code",
   "execution_count": 34,
   "metadata": {},
   "outputs": [
    {
     "data": {
      "text/plain": [
       "-2"
      ]
     },
     "execution_count": 34,
     "metadata": {},
     "output_type": "execute_result"
    }
   ],
   "source": [
    "second_large([-2, -1])"
   ]
  },
  {
   "cell_type": "code",
   "execution_count": 35,
   "metadata": {},
   "outputs": [
    {
     "data": {
      "text/plain": [
       "2"
      ]
     },
     "execution_count": 35,
     "metadata": {},
     "output_type": "execute_result"
    }
   ],
   "source": [
    "second_large([2, 2, 1])"
   ]
  },
  {
   "cell_type": "code",
   "execution_count": 36,
   "metadata": {},
   "outputs": [],
   "source": [
    "second_large([])"
   ]
  },
  {
   "cell_type": "code",
   "execution_count": null,
   "metadata": {},
   "outputs": [],
   "source": []
  }
 ],
 "metadata": {
  "anaconda-cloud": {},
  "kernelspec": {
   "display_name": "Python 3",
   "language": "python",
   "name": "python3"
  },
  "language_info": {
   "codemirror_mode": {
    "name": "ipython",
    "version": 3
   },
   "file_extension": ".py",
   "mimetype": "text/x-python",
   "name": "python",
   "nbconvert_exporter": "python",
   "pygments_lexer": "ipython3",
   "version": "3.7.3"
  }
 },
 "nbformat": 4,
 "nbformat_minor": 1
}
